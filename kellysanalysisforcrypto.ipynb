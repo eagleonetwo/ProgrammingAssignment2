{
  "nbformat": 4,
  "nbformat_minor": 0,
  "metadata": {
    "colab": {
      "provenance": [],
      "authorship_tag": "ABX9TyPGS3X8RwYSBKAkBGZ36pYh",
      "include_colab_link": true
    },
    "kernelspec": {
      "name": "python3",
      "display_name": "Python 3"
    },
    "language_info": {
      "name": "python"
    }
  },
  "cells": [
    {
      "cell_type": "markdown",
      "metadata": {
        "id": "view-in-github",
        "colab_type": "text"
      },
      "source": [
        "<a href=\"https://colab.research.google.com/github/eagleonetwo/ProgrammingAssignment2/blob/master/kellysanalysisforcrypto.ipynb\" target=\"_parent\"><img src=\"https://colab.research.google.com/assets/colab-badge.svg\" alt=\"Open In Colab\"/></a>"
      ]
    },
    {
      "cell_type": "code",
      "execution_count": 12,
      "metadata": {
        "id": "3pCmJV6ZBWoK"
      },
      "outputs": [],
      "source": [
        "import hashlib\n",
        "import random\n",
        "import pandas as pd\n",
        "import numpy as np\n"
      ]
    },
    {
      "cell_type": "markdown",
      "source": [],
      "metadata": {
        "id": "xKP3Zw05BeZZ"
      }
    },
    {
      "cell_type": "code",
      "source": [
        "# Simulate 10 trading nodes with 30 days of volume\n",
        "np.random.seed(42)\n",
        "nodes = [f\"wallet_{i}\" for i in range(10)]\n",
        "dates = pd.date_range(end=pd.Timestamp.today(), periods=30)\n",
        "\n",
        "data = []\n",
        "for node in nodes:\n",
        "    for date in dates:\n",
        "        volume = np.random.exponential(scale=1000)\n",
        "        return_rate = np.random.normal(loc=0.02, scale=0.1)  # daily ROI\n",
        "        data.append({\"node\": node, \"date\": date, \"volume\": volume, \"return\": return_rate})\n",
        "\n",
        "df = pd.DataFrame(data)\n"
      ],
      "metadata": {
        "id": "HD0QyUZ6Bex2"
      },
      "execution_count": 13,
      "outputs": []
    },
    {
      "cell_type": "markdown",
      "source": [],
      "metadata": {
        "id": "Yv6ipMtOBfiM"
      }
    },
    {
      "cell_type": "code",
      "source": [
        "def hash_node_id(node_id):\n",
        "    return hashlib.sha256(node_id.encode()).hexdigest()\n",
        "\n",
        "df['node_hash'] = df['node'].apply(hash_node_id)\n"
      ],
      "metadata": {
        "id": "gwLTr9WhCsN9"
      },
      "execution_count": 14,
      "outputs": []
    },
    {
      "cell_type": "code",
      "source": [
        "def compute_kelly(p, b):\n",
        "    q = 1 - p\n",
        "    return max((b * p - q) / b, 0)  # Clip negatives\n",
        "\n",
        "# Aggregate daily stats per node\n",
        "node_stats = df.groupby('node').agg({\n",
        "    'return': ['mean', lambda x: (x > 0).mean()],  # mean return and success rate\n",
        "}).reset_index()\n",
        "\n",
        "node_stats.columns = ['node', 'mean_return', 'win_prob']\n",
        "node_stats['kelly_fraction'] = node_stats.apply(\n",
        "    lambda row: compute_kelly(row['win_prob'], row['mean_return']) if row['mean_return'] > 0 else 0, axis=1\n",
        ")\n"
      ],
      "metadata": {
        "id": "E0TIgV3SCu6c"
      },
      "execution_count": 15,
      "outputs": []
    },
    {
      "cell_type": "code",
      "source": [
        "df = df.merge(node_stats[['node', 'kelly_fraction']], on='node', how='left')\n",
        "df['capital_allocation'] = df['kelly_fraction'] * df['volume']  # Adjust volume by Kelly optimal allocation\n"
      ],
      "metadata": {
        "id": "UurYMY8eCwP4"
      },
      "execution_count": 16,
      "outputs": []
    },
    {
      "cell_type": "code",
      "source": [
        "print(df[['date', 'node', 'volume', 'return', 'kelly_fraction', 'capital_allocation']].tail(10))\n"
      ],
      "metadata": {
        "colab": {
          "base_uri": "https://localhost:8080/"
        },
        "id": "L7SO233YCyEe",
        "outputId": "93ef3c63-e58c-4d3e-c14c-7534e5e56779"
      },
      "execution_count": 17,
      "outputs": [
        {
          "output_type": "stream",
          "name": "stdout",
          "text": [
            "                          date      node       volume    return  \\\n",
            "290 2025-06-16 21:48:04.494447  wallet_9  1698.663034 -0.052400   \n",
            "291 2025-06-17 21:48:04.494447  wallet_9  1104.559599 -0.033258   \n",
            "292 2025-06-18 21:48:04.494447  wallet_9  2650.385095  0.224332   \n",
            "293 2025-06-19 21:48:04.494447  wallet_9   328.475031  0.181961   \n",
            "294 2025-06-20 21:48:04.494447  wallet_9  1467.473758 -0.036456   \n",
            "295 2025-06-21 21:48:04.494447  wallet_9   554.144550 -0.080205   \n",
            "296 2025-06-22 21:48:04.494447  wallet_9   708.484963 -0.025862   \n",
            "297 2025-06-23 21:48:04.494447  wallet_9   943.199657 -0.010672   \n",
            "298 2025-06-24 21:48:04.494447  wallet_9   340.563368 -0.093914   \n",
            "299 2025-06-25 21:48:04.494447  wallet_9   656.121378  0.046774   \n",
            "\n",
            "     kelly_fraction  capital_allocation  \n",
            "290               0                 0.0  \n",
            "291               0                 0.0  \n",
            "292               0                 0.0  \n",
            "293               0                 0.0  \n",
            "294               0                 0.0  \n",
            "295               0                 0.0  \n",
            "296               0                 0.0  \n",
            "297               0                 0.0  \n",
            "298               0                 0.0  \n",
            "299               0                 0.0  \n"
          ]
        }
      ]
    },
    {
      "cell_type": "code",
      "source": [
        "import matplotlib.pyplot as plt\n",
        "\n",
        "# Average Kelly fraction by node\n",
        "node_stats.plot.bar(x='node', y='kelly_fraction', legend=False)\n",
        "plt.title('Optimal Kelly Fraction per Node')\n",
        "plt.ylabel('Kelly Fraction')\n",
        "plt.show()\n"
      ],
      "metadata": {
        "colab": {
          "base_uri": "https://localhost:8080/",
          "height": 515
        },
        "id": "s25EiiBOD7gp",
        "outputId": "ae52c2e8-f1af-4c1b-ba29-4fe8a44c46c4"
      },
      "execution_count": 18,
      "outputs": [
        {
          "output_type": "display_data",
          "data": {
            "text/plain": [
              "<Figure size 640x480 with 1 Axes>"
            ],
            "image/png": "[encoded data removed]"
          },
          "metadata": {}
        }
      ]
    }
  ]
}